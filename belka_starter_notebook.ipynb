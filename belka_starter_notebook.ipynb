{
 "cells": [
  {
   "cell_type": "markdown",
   "id": "b2551f4e-583d-486e-a4d2-4e60df39df0c",
   "metadata": {},
   "source": [
    "# BELKA-mini Starter Notebook 🧪\n",
    "Predict small molecule binding using ECFPs + protein encoding\n",
    "\n",
    "Model: Random Forest (sklearn)\n"
   ]
  },
  {
   "cell_type": "markdown",
   "id": "63f41915-61db-462f-a4e0-13885f3f05df",
   "metadata": {},
   "source": [
    "## 🔧 Setup"
   ]
  },
  {
   "cell_type": "code",
   "execution_count": null,
   "id": "565e7a6e-a9ee-42d4-a65e-d9acc8a8c44c",
   "metadata": {},
   "outputs": [],
   "source": [
    "# !pip install -q rdkit-pypi"
   ]
  },
  {
   "cell_type": "code",
   "execution_count": null,
   "id": "52f5f698-a083-4be2-a88c-d4de8af6c343",
   "metadata": {},
   "outputs": [],
   "source": [
    "import pandas as pd\n",
    "import numpy as np\n",
    "from rdkit import Chem\n",
    "from rdkit.Chem import AllChem\n",
    "from sklearn.ensemble import RandomForestClassifier\n",
    "from sklearn.preprocessing import OneHotEncoder\n",
    "from sklearn.metrics import average_precision_score\n",
    "from sklearn.model_selection import train_test_split\n",
    "import matplotlib.pyplot as plt"
   ]
  },
  {
   "cell_type": "markdown",
   "id": "a90696fc-6235-4d25-b547-a93bb42356d1",
   "metadata": {},
   "source": [
    "## 📦 Load Data"
   ]
  },
  {
   "cell_type": "code",
   "execution_count": null,
   "id": "a24edc1c-7db3-4b6c-9ac7-858a3c933458",
   "metadata": {},
   "outputs": [],
   "source": [
    "import os\n",
    "data_path = \"\""
   ]
  },
  {
   "cell_type": "code",
   "execution_count": null,
   "id": "76af1f1e-4387-4253-8a3a-f541cc366462",
   "metadata": {},
   "outputs": [],
   "source": [
    "train = pd.read_csv(\"train.csv\")\n",
    "val = pd.read_csv(\"val.csv\")\n",
    "test = pd.read_csv(\"test.csv\")  # contains binds for now\n",
    "\n",
    "print(f\"Train size: {len(train)}\")\n",
    "print(f\"Val size:   {len(val)}\")\n",
    "print(f\"Test size:  {len(test)}\")\n",
    "print(\"\\nTrain columns:\", train.columns.tolist())"
   ]
  },
  {
   "cell_type": "markdown",
   "id": "b538a482-390b-4f20-911c-d320de055ac9",
   "metadata": {},
   "source": [
    "## 👀 Peek at the data"
   ]
  },
  {
   "cell_type": "code",
   "execution_count": null,
   "id": "973e4511-a7c7-44ae-a801-c47c4a453e6f",
   "metadata": {},
   "outputs": [],
   "source": [
    "train.head()"
   ]
  },
  {
   "cell_type": "markdown",
   "id": "7a054dc1-d5ce-41ff-91a0-9771f157a8f5",
   "metadata": {},
   "source": [
    "## 🧪 Featurization: ECFP + One-Hot Protein"
   ]
  },
  {
   "cell_type": "code",
   "execution_count": null,
   "id": "9b61c783-4502-4e37-96c3-6a938d28e535",
   "metadata": {},
   "outputs": [],
   "source": [
    "def smiles_to_ecfp(smiles, radius=2, n_bits=1024):\n",
    "    mol = Chem.MolFromSmiles(smiles)\n",
    "    if mol is None:\n",
    "        return np.zeros(n_bits)\n",
    "    return AllChem.GetMorganFingerprintAsBitVect(mol, radius, nBits=n_bits)"
   ]
  },
  {
   "cell_type": "code",
   "execution_count": null,
   "id": "d3448783-4f26-490a-a1be-b240451a1a71",
   "metadata": {},
   "outputs": [],
   "source": [
    "# Featurize molecules\n",
    "train['ecfp'] = train['molecule_smiles'].apply(smiles_to_ecfp)\n",
    "val['ecfp'] = val['molecule_smiles'].apply(smiles_to_ecfp)\n",
    "test['ecfp'] = test['molecule_smiles'].apply(smiles_to_ecfp)"
   ]
  },
  {
   "cell_type": "code",
   "execution_count": null,
   "id": "02c1ddcd-1f1c-44cc-a693-1f7a9212aaaf",
   "metadata": {},
   "outputs": [],
   "source": [
    "# One-hot protein\n",
    "protein_encoder = OneHotEncoder(sparse_output=False)\n",
    "protein_encoder.fit(train[['protein_name']])"
   ]
  },
  {
   "cell_type": "code",
   "execution_count": null,
   "id": "91530fb2-e8a5-4f6f-9eb7-863216ee0aa7",
   "metadata": {},
   "outputs": [],
   "source": [
    "X_train_prot = protein_encoder.transform(train[['protein_name']])\n",
    "X_val_prot = protein_encoder.transform(val[['protein_name']])\n",
    "X_test_prot = protein_encoder.transform(test[['protein_name']])"
   ]
  },
  {
   "cell_type": "code",
   "execution_count": null,
   "id": "92244376-8bba-4fbb-bb2c-4003c1582b13",
   "metadata": {},
   "outputs": [],
   "source": [
    "# Stack features\n",
    "X_train = [np.concatenate([fp, prot]) for fp, prot in zip(train['ecfp'], X_train_prot)]\n",
    "X_val = [np.concatenate([fp, prot]) for fp, prot in zip(val['ecfp'], X_val_prot)]\n",
    "X_test = [np.concatenate([fp, prot]) for fp, prot in zip(test['ecfp'], X_test_prot)]"
   ]
  },
  {
   "cell_type": "code",
   "execution_count": null,
   "id": "e23b897f-b411-4335-8ad2-1f7fdcdb5198",
   "metadata": {},
   "outputs": [],
   "source": [
    "y_train = train['binds']\n",
    "y_val = val['binds']"
   ]
  },
  {
   "cell_type": "markdown",
   "id": "fd29993d-a2af-44b3-830d-a573ec33fb80",
   "metadata": {},
   "source": [
    "## 🧠 Model: Random Forest"
   ]
  },
  {
   "cell_type": "code",
   "execution_count": null,
   "id": "1efffb15-5338-49c7-9f5a-844d1d3bb815",
   "metadata": {},
   "outputs": [],
   "source": [
    "rf = RandomForestClassifier(n_estimators=100, max_depth=25, random_state=42, class_weight=\"balanced\")\n",
    "rf.fit(X_train, y_train)"
   ]
  },
  {
   "cell_type": "code",
   "execution_count": null,
   "id": "3a201574-f8a1-4dfd-a640-d371801aae2e",
   "metadata": {},
   "outputs": [],
   "source": [
    "val_preds = rf.predict_proba(X_val)[:, 1]\n",
    "ap_score = average_precision_score(y_val, val_preds)"
   ]
  },
  {
   "cell_type": "code",
   "execution_count": null,
   "id": "0c50f904-a697-4c79-9818-49faf7eadada",
   "metadata": {},
   "outputs": [],
   "source": [
    "print(f\"📊 Validation Average Precision (AP): {ap_score:.4f}\")"
   ]
  },
  {
   "cell_type": "markdown",
   "id": "9819bdcb-35d4-4497-9aa9-c02b7afb7236",
   "metadata": {},
   "source": [
    "## 📤 Make Submission"
   ]
  },
  {
   "cell_type": "code",
   "execution_count": null,
   "id": "0b1697fc-8c8c-4c27-88cc-2598c32423e2",
   "metadata": {},
   "outputs": [],
   "source": [
    "# We assume test.csv includes labels for now — remove them before submission!\n",
    "test_preds = rf.predict_proba(X_test)[:, 1]\n",
    "submission = pd.DataFrame({'id': test['id'], 'binds': test_preds})"
   ]
  },
  {
   "cell_type": "code",
   "execution_count": null,
   "id": "b015e98e-fc2e-4a24-99e7-b7327d618428",
   "metadata": {},
   "outputs": [],
   "source": [
    "# Save to file\n",
    "submission.to_csv(\"submission.csv\", index=False)"
   ]
  },
  {
   "cell_type": "code",
   "execution_count": null,
   "id": "6148f111-5589-4c77-9bd4-d557fa3e88ef",
   "metadata": {},
   "outputs": [],
   "source": [
    "# Preview\n",
    "submission.head()"
   ]
  },
  {
   "cell_type": "code",
   "execution_count": null,
   "id": "a47a4219-b464-433a-8e1f-12ba3a7d9935",
   "metadata": {},
   "outputs": [],
   "source": []
  }
 ],
 "metadata": {
  "kernelspec": {
   "display_name": "py3",
   "language": "python",
   "name": "py3"
  },
  "language_info": {
   "codemirror_mode": {
    "name": "ipython",
    "version": 3
   },
   "file_extension": ".py",
   "mimetype": "text/x-python",
   "name": "python",
   "nbconvert_exporter": "python",
   "pygments_lexer": "ipython3",
   "version": "3.10.2"
  }
 },
 "nbformat": 4,
 "nbformat_minor": 5
}
