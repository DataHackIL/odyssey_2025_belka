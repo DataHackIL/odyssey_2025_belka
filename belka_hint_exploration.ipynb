{
 "cells": [
  {
   "cell_type": "markdown",
   "id": "7f293349-8135-425c-af97-2e77de2f0bef",
   "metadata": {},
   "source": [
    "# BELKA-mini: Exploratory Hint Notebook 🧠"
   ]
  },
  {
   "cell_type": "markdown",
   "id": "4ba3cbd9-4cea-4893-9446-5efd956bbadd",
   "metadata": {},
   "source": [
    "## 🧰 Setup"
   ]
  },
  {
   "cell_type": "code",
   "execution_count": null,
   "id": "656d9b7c-e5a6-403b-b831-26c76eed41cf",
   "metadata": {},
   "outputs": [],
   "source": [
    "# !pip install -q rdkit-pypi\n",
    "\n",
    "import pandas as pd\n",
    "import numpy as np\n",
    "from rdkit import Chem\n",
    "from collections import Counter\n",
    "import matplotlib.pyplot as plt"
   ]
  },
  {
   "cell_type": "code",
   "execution_count": null,
   "id": "95514eec-cdc7-43ef-9b2e-f8f7f4a69884",
   "metadata": {},
   "outputs": [],
   "source": [
    "train = pd.read_csv(\"train.csv\")\n",
    "val = pd.read_csv(\"val.csv\")\n",
    "test = pd.read_csv(\"test.csv\")  # includes is_novel + binds for now"
   ]
  },
  {
   "cell_type": "markdown",
   "id": "550f74f4-b24f-4715-9d1a-9cc413896be6",
   "metadata": {},
   "source": [
    "## 📊 Basic Stats"
   ]
  },
  {
   "cell_type": "code",
   "execution_count": null,
   "id": "8253410c-adb5-48bb-8fa6-126882b1f6ac",
   "metadata": {},
   "outputs": [],
   "source": [
    "print(\"Train size:\", len(train))\n",
    "print(\"Val size:\", len(val))\n",
    "print(\"Test size:\", len(test))\n",
    "\n",
    "print(\"\\n🔬 Columns:\", train.columns.tolist())"
   ]
  },
  {
   "cell_type": "markdown",
   "id": "9872f061-3db5-4cdf-bb65-8b04f66c8c31",
   "metadata": {},
   "source": [
    "## 🔍 Binding Imbalance"
   ]
  },
  {
   "cell_type": "code",
   "execution_count": null,
   "id": "da1d8783-2c0f-4437-a4af-3f10d181bf69",
   "metadata": {},
   "outputs": [],
   "source": [
    "def plot_class_balance(df, label):\n",
    "    df['binds'].value_counts().sort_index().plot(kind='bar', title=f\"{label} Binding Distribution\")\n",
    "    plt.xticks([0, 1], ['Non-binders (0)', 'Binders (1)'], rotation=0)\n",
    "    plt.ylabel(\"Count\")\n",
    "    plt.tight_layout()\n",
    "    plt.show()"
   ]
  },
  {
   "cell_type": "code",
   "execution_count": null,
   "id": "befdcf3a-dbe6-417f-88ff-d464a32f9208",
   "metadata": {},
   "outputs": [],
   "source": [
    "plot_class_balance(train, \"Train\")\n",
    "plot_class_balance(val, \"Validation\")"
   ]
  },
  {
   "cell_type": "markdown",
   "id": "b9c25fb4-c067-40ac-9643-a4e9a3973523",
   "metadata": {},
   "source": [
    "## 🧬 Protein Distribution"
   ]
  },
  {
   "cell_type": "code",
   "execution_count": null,
   "id": "a297a26b-b4ae-4d6b-a23b-4232fb035c3f",
   "metadata": {},
   "outputs": [],
   "source": [
    "def plot_protein_distribution(df, label):\n",
    "    df['protein_name'].value_counts().plot(kind='bar', title=f\"{label} Protein Distribution\")\n",
    "    plt.xticks(rotation=0)\n",
    "    plt.ylabel(\"Count\")\n",
    "    plt.tight_layout()\n",
    "    plt.show()"
   ]
  },
  {
   "cell_type": "code",
   "execution_count": null,
   "id": "a0be79a1-0e0c-444d-a56b-444410562365",
   "metadata": {},
   "outputs": [],
   "source": [
    "plot_protein_distribution(train, \"Train\")\n",
    "plot_protein_distribution(test, \"Test\")"
   ]
  },
  {
   "cell_type": "markdown",
   "id": "3ad790d5-77fc-4edd-9126-8b1fffce5c55",
   "metadata": {},
   "source": [
    "## 🧩 Building Block Coverage"
   ]
  },
  {
   "cell_type": "code",
   "execution_count": null,
   "id": "056a97c9-aaef-4d52-9c81-3d818ce8d8e3",
   "metadata": {},
   "outputs": [],
   "source": [
    "def unique_bbs(df, slot):\n",
    "    return set(df[f'buildingblock{slot}_smiles'].unique())"
   ]
  },
  {
   "cell_type": "code",
   "execution_count": null,
   "id": "3c266714-861b-42c0-89d5-e07ac9cf258d",
   "metadata": {},
   "outputs": [],
   "source": [
    "bb_train = {i: unique_bbs(train, i) for i in [1,2,3]}\n",
    "bb_test = {i: unique_bbs(test, i) for i in [1,2,3]}"
   ]
  },
  {
   "cell_type": "code",
   "execution_count": null,
   "id": "d511915a-092e-42d2-8f28-9445f848f2ab",
   "metadata": {},
   "outputs": [],
   "source": [
    "for i in [1,2,3]:\n",
    "    overlap = len(bb_train[i] & bb_test[i])\n",
    "    total = len(bb_test[i])\n",
    "\n",
    "print(f\"🧱 BB{i}: {overlap} / {total} ({100 * overlap/total:.2f}%) overlap between test and train\")"
   ]
  },
  {
   "cell_type": "code",
   "execution_count": null,
   "id": "2852abcf-889a-4dce-9d65-e8e30ef1b59e",
   "metadata": {},
   "outputs": [],
   "source": []
  }
 ],
 "metadata": {
  "kernelspec": {
   "display_name": "py3",
   "language": "python",
   "name": "py3"
  },
  "language_info": {
   "codemirror_mode": {
    "name": "ipython",
    "version": 3
   },
   "file_extension": ".py",
   "mimetype": "text/x-python",
   "name": "python",
   "nbconvert_exporter": "python",
   "pygments_lexer": "ipython3",
   "version": "3.10.2"
  }
 },
 "nbformat": 4,
 "nbformat_minor": 5
}
